{
 "metadata": {
  "name": "",
  "signature": "sha256:bceb39b2c1b6573b7a76c5488268707fa7cb568df8e3d4528b4294376fb83455"
 },
 "nbformat": 3,
 "nbformat_minor": 0,
 "worksheets": [
  {
   "cells": [
    {
     "cell_type": "code",
     "collapsed": false,
     "input": [],
     "language": "python",
     "metadata": {},
     "outputs": [],
     "prompt_number": 2
    },
    {
     "cell_type": "code",
     "collapsed": false,
     "input": [
      "import numpy as np\n",
      "from scipy import optimize\n",
      "import matplotlib.pyplot as plt\n",
      "\n",
      "\n",
      "file = open('datos1.txt', 'r')\n",
      "print file.read()\n",
      "\n",
      "plt.plotfile('datos1.txt', delimiter=' ', cols=(0, 1), \n",
      "             names=('col1', 'col2'), marker='o')\n",
      "plt.show()\n"
     ],
     "language": "python",
     "metadata": {},
     "outputs": [
      {
       "output_type": "stream",
       "stream": "stdout",
       "text": [
        "1900\t24.42\r\n",
        "1901\t20.99\r\n",
        "1902\t21.41\r\n",
        "1903\t22.82\r\n",
        "1904\t15.94\r\n",
        "1905\t16.93\r\n",
        "1906\t26.18\r\n",
        "1907\t19.42\r\n",
        "1908\t22.55\r\n",
        "1909\t25.15\r\n",
        "1910\t21.54\r\n",
        "1911\t21.34\r\n",
        "1912\t20.69\r\n",
        "1913\t27.10\r\n",
        "1914\t21.83\r\n",
        "1915\t24.26\r\n",
        "1916\t23.15\r\n",
        "1917\t21.12\r\n",
        "1918\t15.75\r\n",
        "1919\t27.62\r\n",
        "1920\t17.20\r\n",
        "1921\t26.43\r\n",
        "1922\t22.52\r\n",
        "1923\t20.51\r\n",
        "1924\t24.93\r\n",
        "1925\t23.48\r\n",
        "1926\t22.64\r\n",
        "1927\t22.69\r\n",
        "1928\t24.85\r\n",
        "1929\t24.59\r\n",
        "1930\t24.82\r\n",
        "1931\t24.27\r\n",
        "1932\t30.47\r\n",
        "1933\t29.38\r\n",
        "1934\t18.86\r\n",
        "1935\t21.28\r\n",
        "1936\t18.81\r\n",
        "1937\t28.80\r\n",
        "1938\t24.29\r\n",
        "1939\t24.93\r\n",
        "1940\t21.10\r\n",
        "1941\t23.43\r\n",
        "1942\t23.39\r\n",
        "1943\t21.32\r\n",
        "1944\t23.49\r\n",
        "1945\t19.70\r\n",
        "1946\t22.06\r\n",
        "1947\t24.87\r\n",
        "1948\t19.78\r\n",
        "1949\t28.70\r\n",
        "1950\t27.51\r\n",
        "1951\t25.31\r\n",
        "1952\t26.59\r\n",
        "1953\t28.82\r\n",
        "1954\t27.42\r\n",
        "1955\t23.24\r\n",
        "1956\t22.76\r\n",
        "1957\t25.03\r\n",
        "1958\t23.72\r\n",
        "1959\t19.49\r\n",
        "1960\t25.94\r\n",
        "1961\t20.60\r\n",
        "1962\t22.73\r\n",
        "1963\t19.52\r\n",
        "1964\t21.78\r\n",
        "1965\t22.98\r\n",
        "1966\t24.31\r\n",
        "1967\t24.48\r\n",
        "1968\t20.94\r\n",
        "1969\t22.66\r\n",
        "1970\t19.08\r\n",
        "1971\t21.30\r\n",
        "1972\t24.48\r\n",
        "1973\t24.79\r\n",
        "1974\t24.25\r\n",
        "1975\t27.08\r\n",
        "1976\t23.46\r\n",
        "1977\t18.69\r\n",
        "1978\t19.47\r\n",
        "1979\t20.16\r\n",
        "1980\t24.43\r\n",
        "1981\t21.95\r\n",
        "1982\t21.22\r\n",
        "1983\t27.98\r\n",
        "1984\t24.23\r\n",
        "1985\t25.10\r\n",
        "1986\t22.54\r\n",
        "1987\t24.05\r\n",
        "1988\t24.77\r\n",
        "1989\t25.08\r\n",
        "1990\t24.17\r\n",
        "1991\t27.93\r\n",
        "1992\t26.10\r\n",
        "1993\t23.56\r\n",
        "1994\t18.89\r\n",
        "1995\t26.59\r\n",
        "1996\t21.67\r\n",
        "1997\t27.68\r\n",
        "1998\t29.42\r\n",
        "1999\t27.82\n"
       ]
      },
      {
       "metadata": {},
       "output_type": "display_data",
       "png": "[encoded data removed]",
       "text": [
        "<matplotlib.figure.Figure at 0x7f3cd9bbe350>"
       ]
      }
     ],
     "prompt_number": 23
    },
    {
     "cell_type": "code",
     "collapsed": false,
     "input": [
      "file = open('datos2.txt', 'r')\n",
      "print file.read()\n",
      "import matplo$tlib.pyplot as plt \n",
      "\n",
      "\n",
      "import matplotlib.pyplot as plt \n",
      "\n",
      "plt.plotfile('datos2.txt', delimiter=' ', cols=(0, 1), $\n",
      "             names=('col1', 'col2'), marker='o')\n",
      "plt.show()\n"
     ],
     "language": "python",
     "metadata": {},
     "outputs": [
      {
       "output_type": "stream",
       "stream": "stdout",
       "text": [
        "0.0\t1013.25\r\n",
        "0.5\t954.61\r\n",
        "1.0\t898.76\r\n",
        "1.5\t845.59\r\n",
        "2.0\t795.01\r\n",
        "2.5\t746.91\r\n",
        "3.0\t701.21\r\n",
        "3.5\t657.80\r\n",
        "4.0\t616.60\r\n",
        "4.5\t577.52\r\n",
        "5.0\t540.48\r\n",
        "5.5\t505.39\r\n",
        "6.0\t472.17\r\n",
        "6.5\t440.75\r\n",
        "7.0\t411.05\r\n",
        "7.5\t382.99\r\n",
        "8.0\t356.51\r\n",
        "8.5\t331.54\r\n",
        "9.0\t308.00\r\n",
        "9.5\t285.84\r\n",
        "10.0\t264.99\r\n",
        "11.0\t226.99\r\n",
        "12.0\t193.99\r\n",
        "13.0\t165.79\r\n",
        "14.0\t141.70\r\n",
        "15.0\t121.11\r\n",
        "16.0\t103.52\r\n",
        "17.0\t88.49\r\n",
        "18.0\t75.65\r\n",
        "19.0\t64.67\r\n",
        "20.0\t55.29\r\n",
        "25.0\t25.49\r\n",
        "30.0\t11.97\r\n",
        "35.0\t5.75\r\n",
        "40.0\t2.87\r\n",
        "50.0\t0.80\n"
       ]
      },
      {
       "metadata": {},
       "output_type": "display_data",
       "png": "[encoded data removed]",
       "text": [
        "<matplotlib.figure.Figure at 0x7f3cd99ca3d0>"
       ]
      }
     ],
     "prompt_number": 15
    },
    {
     "cell_type": "code",
     "collapsed": false,
     "input": [
      "plot"
     ],
     "language": "python",
     "metadata": {},
     "outputs": [
      {
       "metadata": {},
       "output_type": "pyout",
       "prompt_number": 5,
       "text": [
        "<function matplotlib.pyplot.plot>"
       ]
      }
     ],
     "prompt_number": 5
    },
    {
     "cell_type": "code",
     "collapsed": false,
     "input": [],
     "language": "python",
     "metadata": {},
     "outputs": []
    }
   ],
   "metadata": {}
  }
 ]
}