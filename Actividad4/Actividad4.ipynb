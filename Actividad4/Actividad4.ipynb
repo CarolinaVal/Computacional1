{
 "metadata": {
  "name": "",
  "signature": "sha256:cac6d154ee3c14fa94a0986ee84c58809c339e795fbf6a7ad8f7f397b9b12f2e"
 },
 "nbformat": 3,
 "nbformat_minor": 0,
 "worksheets": [
  {
   "cells": [
    {
     "cell_type": "code",
     "collapsed": false,
     "input": [
      "import numpy as np\n",
      "import matplotlib.pyplot as plt\n",
      "from scipy.optimize import curve_fit\n",
      "\n",
      "# Lee archivo de datos\n",
      "data = np.loadtxt('datos1.txt')\n",
      "\n",
      "# Guarda las columnas en los vectores\n",
      "A = data[:,0]\n",
      "T = data[:,1]\n",
      "\n",
      "# Ajuste lineal con parametros m,c\n",
      "m, c = np.polyfit(A, T, 1)\n",
      "Aajuste = data[:,0]\n",
      "\n",
      "# Evaluar xn en el ajuste calculado con los param m,c\n",
      "Tajuste = np.polyval([m, c], Aajuste)\n",
      "\n",
      "# Graficar datos y ajuste\n",
      "plt.plot(data[:,0],data[:,1], 'ro')\n",
      "plt.plot(Aajuste, Tajuste)\n",
      "\n",
      "plt.show()"
   
