{
 "metadata": {
  "name": "",
  "signature": "sha256:c4c5d218a6a3518169373250944e283fb1693798572f05d5aa8e05ce56cad0ff"
 },
 "nbformat": 3,
 "nbformat_minor": 0,
 "worksheets": [
  {
   "cells": [
    {
     "cell_type": "code",
     "collapsed": false,
     "input": [
      "#Paquetirijillos\n",
      "import numpy as np\n",
      "from scipy import integrate\n",
      "import matplotlib.pyplot as plt\n",
      "import scipy as sp\n",
      "import matplotlib as mpl\n",
      " \n",
      "\n",
      "fig = plt.figure()\n",
      "g = 9.8\n",
      "# Vectorsillos\n",
      "x=[]\n",
      "Ts=[]\n",
      "i = 0 # Contadorsillo\n",
      " \n",
      "while (i<=90):\n",
      "        i=i+1 \n",
      "        theta0 = (i*np.pi)/180 \n",
      "        l = 1 \n",
      "        f = lambda x: 1/np.sqrt(np.cos(x) - np.cos(theta0)) \n",
      "        \n",
      "        #Integralijilla\n",
      "        F, erri = integrate.quad(f,0,theta0)\n",
      "        T = 4 * np.sqrt(l/g) * (1/np.sqrt(2)) * F\n",
      "       \n",
      "        x.append(i)\n",
      "        Ts.append(T)\n",
      "Ths = 2*np.pi*np.sqrt(l/g)\n",
      "T = Ts\n",
      "#Est\u00fapuida gr\u00e1fica hermosa\n",
      "plt.xlabel('Angulo') \n",
      "plt.ylabel('Periodo \"T\"') \n",
      "plt.plot(T) \n",
      "plt.show() \n",
      "\n",
      "\n",
      "\n",
      "\n",
      "\n",
      "\n",
      "\n",
      "\n"
     ],
     "language": "python",
     "metadata": {},
     "outputs": [
      {
       "metadata": {},
       "output_type": "display_data",
       "png": "[encoded data removed]",
       "text": [
        "<matplotlib.figure.Figure at 0x7f20882ce790>"
       ]
      }
     ],
     "prompt_number": 14
    },
    {
     "cell_type": "code",
     "collapsed": false,
     "input": [],
     "language": "python",
     "metadata": {},
     "outputs": [],
     "prompt_number": 9
    },
    {
     "cell_type": "code",
     "collapsed": false,
     "input": [],
     "language": "python",
     "metadata": {},
     "outputs": []
    }
   ],
   "metadata": {}
  }
 ]
}